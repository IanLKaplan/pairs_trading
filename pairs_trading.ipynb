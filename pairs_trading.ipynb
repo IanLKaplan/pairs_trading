{
 "cells": [
  {
   "cell_type": "markdown",
   "source": [
    "<h2>\n",
    "Pairs Trading\n",
    "</h2>\n",
    "<blockquote>\n",
    "<p>\n",
    "Pairs trading is an approach that takes advantage of the\n",
    "mispricing between two (or more) co-moving assets, by\n",
    "taking a long position in one(many) and shorting the\n",
    "other(s), betting that the relationship will hold and that\n",
    "prices will converge back to an equilibrium level.\n",
    "</p>\n",
    "<p>\n",
    "<i>Definitive Guide to Pairs Trading</i> availabel from <a href=\"https://hudsonthames.org/\">Hudson and Thames</a>\n",
    "</p>\n",
    "</blockquote>\n",
    "<p>\n",
    "Pairs trading is a so called statistical arbitrage trading strategy.\n",
    "</p>\n",
    "<blockquote>\n",
    "<p>\n",
    "Statistical arbitrage and pairs trading tries to solve this problem using price relativity. If two assets share the same\n",
    "characteristics and risk exposures, then we can assume that their behavior would be similar as well. This has\n",
    "the benefit of not having to estimate the intrinsic value of an asset but rather just if it is under or overvalued\n",
    "relative to a peer(s). We only have to focus on the relationship between the two, and if the spread happens\n",
    "to widen, it could be that one of the securities is overpriced, the other is underpriced, or the mispricing is a\n",
    "combination of both.\n",
    "</p>\n",
    "<p>\n",
    "<i>Definitive Guide to Pairs Trading</i> availabel from <a href=\"https://hudsonthames.org/\">Hudson and Thames</a>\n",
    "</p>\n",
    "</blockquote>\n",
    "<p>\n",
    "Pairs trading algorithms have been reported to yield returns of 10%\n",
    "or more, with a relatively market neutral portfolio. These portfolios had Sharpe ratios in excess of 1.0.\n",
    "</p>\n",
    "<p>\n",
    "This Python notebook investigates pairs trading algorithms in an attempt reproduce the reported results.\n",
    "</p>\n",
    "<h3>\n",
    "Cointegration\n",
    "</h3>\n",
    "<p>\n",
    "Cointegration is used to recognize asset pairs that are canidates for pairs trading. See the reference section for discussions on cointegration.\n",
    "</p>\n",
    "<p>\n",
    "There are two cointegration tests:\n",
    "</p>\n",
    "<ul>\n",
    "<li>\n",
    "Engle-Granger\n",
    "</li>\n",
    "<li>\n",
    "Johansen\n",
    "</li>\n",
    "</ul>\n",
    "<p>\n",
    "Most authors seem to agree that the Johansen test is the most practical for pairs trading.\n",
    "</p>\n"
   ],
   "metadata": {
    "collapsed": false,
    "pycharm": {
     "name": "#%% md\n"
    }
   }
  },
  {
   "cell_type": "code",
   "execution_count": null,
   "outputs": [],
   "source": [],
   "metadata": {
    "collapsed": false,
    "pycharm": {
     "name": "#%%\n"
    }
   }
  },
  {
   "cell_type": "markdown",
   "source": [
    "<h2>\n",
    "References\n",
    "</h2>\n",
    "<ol>\n",
    "<li>\n",
    "<a href=\"https://www.sciencedirect.com/science/article/pii/S2214845021000880\">Pairs trading: is it applicable to exchange-traded funds?</a>\n",
    "</li>\n",
    "<li>\n",
    "<a href=\"https://hudsonthames.org/an-introduction-to-cointegration/\">An Introduction to Cointegration for Pairs Trading By Yefeng Wang</a>\n",
    "</li>\n",
    "<li>\n",
    "<a href=\"https://www.tradelikeamachine.com/blog/cointegration-pairs-trading/part-1-using-cointegration-for-a-pairs-trading-strategy\"><i>Using Cointegration for a Pairs Trading Strategy</i> Martyn Tinsley</a>\n",
    "</li>\n",
    "</ol>"
   ],
   "metadata": {
    "collapsed": false,
    "pycharm": {
     "name": "#%% md\n"
    }
   }
  }
 ],
 "metadata": {
  "kernelspec": {
   "display_name": "Python 3",
   "language": "python",
   "name": "python3"
  },
  "language_info": {
   "codemirror_mode": {
    "name": "ipython",
    "version": 2
   },
   "file_extension": ".py",
   "mimetype": "text/x-python",
   "name": "python",
   "nbconvert_exporter": "python",
   "pygments_lexer": "ipython2",
   "version": "2.7.6"
  }
 },
 "nbformat": 4,
 "nbformat_minor": 0
}